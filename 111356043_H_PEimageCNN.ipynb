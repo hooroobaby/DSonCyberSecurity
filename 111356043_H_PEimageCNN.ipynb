{
  "nbformat": 4,
  "nbformat_minor": 0,
  "metadata": {
    "colab": {
      "provenance": [],
      "toc_visible": true,
      "include_colab_link": true
    },
    "kernelspec": {
      "name": "python3",
      "display_name": "Python 3"
    }
  },
  "cells": [
    {
      "cell_type": "markdown",
      "metadata": {
        "id": "view-in-github",
        "colab_type": "text"
      },
      "source": [
        "<a href=\"https://colab.research.google.com/github/hooroobaby/DSonCyberSecurity/blob/main/111356043_H_PEimageCNN.ipynb\" target=\"_parent\"><img src=\"https://colab.research.google.com/assets/colab-badge.svg\" alt=\"Open In Colab\"/></a>"
      ]
    },
    {
      "cell_type": "markdown",
      "source": [
        "### Homework PE image by CNN\n",
        "\n",
        "Copy this file to your own Google Drive now!\n"
      ],
      "metadata": {
        "id": "yPtC45SLiNxw"
      }
    },
    {
      "cell_type": "markdown",
      "source": [
        "Answer #0:\n",
        "\n",
        "\n",
        "Your name: 林驊萱\n",
        "\n",
        "Student ID: 111356043\n",
        "\n",
        "Department: 資管碩一"
      ],
      "metadata": {
        "id": "y_jhE7_NidwY"
      }
    },
    {
      "cell_type": "markdown",
      "metadata": {
        "id": "njbVq0jShEBz"
      },
      "source": [
        "# Using CNN to classifiy malicious PE files into malware family\n",
        "\n",
        "Please take a careful look at the following tutorial.\n",
        "\n",
        "https://www.tensorflow.org/tutorials/keras/classification\n",
        "\n",
        "It is an example of using tensorflow/keras to build a simple neural network to classify images of clothing. The images are 28x28 NumPy arrays, with pixel values ranging from 0 to 255. The labels are an array of integers, ranging from 0 to 9.\n",
        "\n",
        "Please write your homework by modifying this tutorial. We will provide you the first 748 bytes of several PE files and their corresponding class labels (just like the example in the tutorial). Please desgin a more complicated neural network (e.g., using convolution, pooling, dense, dropout, dense, softmax, ...) to increase the classification accuracy."
      ]
    },
    {
      "cell_type": "code",
      "metadata": {
        "id": "LYDFyLIgkYRZ",
        "colab": {
          "base_uri": "https://localhost:8080/"
        },
        "outputId": "36a214d8-9351-4eaf-d273-a4874c93feb7"
      },
      "source": [
        "# TensorFlow and tf.keras\n",
        "import tensorflow as tf\n",
        "from tensorflow import keras\n",
        "\n",
        "# Helper libraries\n",
        "import numpy as np\n",
        "import pandas as pd\n",
        "import matplotlib.pyplot as plt\n",
        "\n",
        "print(tf.__version__)"
      ],
      "execution_count": null,
      "outputs": [
        {
          "output_type": "stream",
          "name": "stdout",
          "text": [
            "2.12.0\n"
          ]
        }
      ]
    },
    {
      "cell_type": "markdown",
      "metadata": {
        "id": "PDNaCNOSjDgH"
      },
      "source": [
        "### Get pefiles\n",
        "\n"
      ]
    },
    {
      "cell_type": "code",
      "metadata": {
        "id": "fVDAjk_Hg_Yu",
        "colab": {
          "base_uri": "https://localhost:8080/"
        },
        "outputId": "dd21e832-e7d9-41b7-e66c-b3498ea8cb8a"
      },
      "source": [
        "!wget https://drive.google.com/uc?id=1Vm3K0F8LdtvEh-8GoDtJELu5Qo179aVw -O pefiles.pickle"
      ],
      "execution_count": null,
      "outputs": [
        {
          "output_type": "stream",
          "name": "stdout",
          "text": [
            "--2023-05-09 18:58:07--  https://drive.google.com/uc?id=1Vm3K0F8LdtvEh-8GoDtJELu5Qo179aVw\n",
            "Resolving drive.google.com (drive.google.com)... 74.125.204.102, 74.125.204.101, 74.125.204.139, ...\n",
            "Connecting to drive.google.com (drive.google.com)|74.125.204.102|:443... connected.\n",
            "HTTP request sent, awaiting response... 303 See Other\n",
            "Location: https://doc-0c-38-docs.googleusercontent.com/docs/securesc/ha0ro937gcuc7l7deffksulhg5h7mbp1/iodk9frqvc8lh7jglq0f5gr1rdh2uuse/1683658650000/17174434063503717705/*/1Vm3K0F8LdtvEh-8GoDtJELu5Qo179aVw?uuid=cd1876be-19f1-4ee0-9df9-e182b9a84454 [following]\n",
            "Warning: wildcards not supported in HTTP.\n",
            "--2023-05-09 18:58:11--  https://doc-0c-38-docs.googleusercontent.com/docs/securesc/ha0ro937gcuc7l7deffksulhg5h7mbp1/iodk9frqvc8lh7jglq0f5gr1rdh2uuse/1683658650000/17174434063503717705/*/1Vm3K0F8LdtvEh-8GoDtJELu5Qo179aVw?uuid=cd1876be-19f1-4ee0-9df9-e182b9a84454\n",
            "Resolving doc-0c-38-docs.googleusercontent.com (doc-0c-38-docs.googleusercontent.com)... 64.233.188.132, 2404:6800:4008:c06::84\n",
            "Connecting to doc-0c-38-docs.googleusercontent.com (doc-0c-38-docs.googleusercontent.com)|64.233.188.132|:443... connected.\n",
            "HTTP request sent, awaiting response... 200 OK\n",
            "Length: 282207 (276K) [application/octet-stream]\n",
            "Saving to: ‘pefiles.pickle’\n",
            "\n",
            "pefiles.pickle      100%[===================>] 275.59K  --.-KB/s    in 0.002s  \n",
            "\n",
            "2023-05-09 18:58:11 (131 MB/s) - ‘pefiles.pickle’ saved [282207/282207]\n",
            "\n"
          ]
        }
      ]
    },
    {
      "cell_type": "code",
      "metadata": {
        "id": "xZHA0VTPjKY1",
        "colab": {
          "base_uri": "https://localhost:8080/"
        },
        "outputId": "9b9e0ad9-43d7-4b01-c60f-2c018b3e73ed"
      },
      "source": [
        "!ls -al"
      ],
      "execution_count": null,
      "outputs": [
        {
          "output_type": "stream",
          "name": "stdout",
          "text": [
            "total 292\n",
            "drwxr-xr-x 1 root root   4096 May  9 18:58 .\n",
            "drwxr-xr-x 1 root root   4096 May  9 18:55 ..\n",
            "drwxr-xr-x 4 root root   4096 May  8 13:36 .config\n",
            "-rw-r--r-- 1 root root 282207 May  9 18:58 pefiles.pickle\n",
            "drwxr-xr-x 1 root root   4096 May  8 13:37 sample_data\n"
          ]
        }
      ]
    },
    {
      "cell_type": "markdown",
      "metadata": {
        "id": "-hUYU--mjpHD"
      },
      "source": [
        "### load training data"
      ]
    },
    {
      "cell_type": "code",
      "metadata": {
        "id": "ZxzLOj1vjw0H"
      },
      "source": [
        "import pickle\n",
        "\n",
        "def my_load_data(p):\n",
        "  with open(p, 'rb') as fd:\n",
        "    tu = pickle.load(fd) # 讀取序列化資料\n",
        "  return (tu[0], tu[1])"
      ],
      "execution_count": null,
      "outputs": []
    },
    {
      "cell_type": "code",
      "metadata": {
        "id": "iRRI5NE-jMmh"
      },
      "source": [
        "(train_images, train_labels) = my_load_data(\"/content/pefiles.pickle\")"
      ],
      "execution_count": null,
      "outputs": []
    },
    {
      "cell_type": "code",
      "metadata": {
        "id": "bgqyrpLOkqZx"
      },
      "source": [
        "# now go https://www.tensorflow.org/tutorials/keras/classification\n",
        "# and try to understand the tutorial\n",
        "# and write your code below.\n",
        "# My codes is very similar to the tutorial.\n",
        "# 範例程式碼解釋\n",
        "# train_images和train_labels陣列是訓練集——模型用於學習的資料。\n",
        "# 影象是28x28 NumPy陣列，畫素值從0到255不等。"
      ],
      "execution_count": null,
      "outputs": []
    },
    {
      "cell_type": "code",
      "metadata": {
        "id": "qxZ4y3Pdk7Ig",
        "colab": {
          "base_uri": "https://localhost:8080/"
        },
        "outputId": "ef159b7f-0137-450a-a889-84d5af40706a"
      },
      "source": [
        "# our data includes 11 different malware families\n",
        "class_names = ['Urausy.C', 'Elkern.B', 'Fareit', 'Hotbar', 'Gepys.A', 'Bulta!rfn', 'Zbot',\n",
        "               'GameVance', 'Zegost.B', 'Bifrose.AE', 'Zbot!GO']\n",
        "len_classes = len(class_names)\n",
        "\n",
        "print(len_classes)"
      ],
      "execution_count": null,
      "outputs": [
        {
          "output_type": "stream",
          "name": "stdout",
          "text": [
            "11\n"
          ]
        }
      ]
    },
    {
      "cell_type": "markdown",
      "metadata": {
        "id": "V9Ncbl6IlUh1"
      },
      "source": [
        "### Explore the data"
      ]
    },
    {
      "cell_type": "code",
      "metadata": {
        "id": "ZnphVAxKlVJH",
        "colab": {
          "base_uri": "https://localhost:8080/"
        },
        "outputId": "79a16801-7115-4ab8-e83b-382e47b9b09b"
      },
      "source": [
        "# We have 356 malware pefiles, and each of them is represented as a 28x28 byte array.\n",
        "train_images.shape"
      ],
      "execution_count": null,
      "outputs": [
        {
          "output_type": "execute_result",
          "data": {
            "text/plain": [
              "(356, 28, 28)"
            ]
          },
          "metadata": {},
          "execution_count": 9
        }
      ]
    },
    {
      "cell_type": "code",
      "metadata": {
        "id": "kFVRbQCFlZdd",
        "colab": {
          "base_uri": "https://localhost:8080/"
        },
        "outputId": "7ea6af07-6507-4a2a-fa88-2aa32844e20a"
      },
      "source": [
        "# The lenght of the label is 356 as well.\n",
        "len(train_labels)"
      ],
      "execution_count": null,
      "outputs": [
        {
          "output_type": "execute_result",
          "data": {
            "text/plain": [
              "356"
            ]
          },
          "metadata": {},
          "execution_count": 10
        }
      ]
    },
    {
      "cell_type": "code",
      "metadata": {
        "id": "qiaQHLfKlmrP",
        "colab": {
          "base_uri": "https://localhost:8080/"
        },
        "outputId": "40221700-0bd3-46be-9c16-a1dfbe56bd9b"
      },
      "source": [
        "# Each label is an integer (ranging from 0 to 10).\n",
        "# The 1st malware's label is 5.\n",
        "# It stands for that the 1st malware belongs to the family labeded by 5.\n",
        "# See class_names. Its index starts from 0.\n",
        "train_labels"
      ],
      "execution_count": null,
      "outputs": [
        {
          "output_type": "execute_result",
          "data": {
            "text/plain": [
              "array([ 5,  4,  2,  6,  3,  7,  2,  3,  0,  2,  2,  3,  7,  3,  3,  3,  2,\n",
              "        2,  7,  9,  5,  1,  4, 10,  2,  4,  0,  6,  2,  6,  2,  3,  4,  2,\n",
              "        2,  2,  6, 10,  2,  3,  2,  0,  2,  3,  4,  0, 10,  3,  2,  4,  2,\n",
              "        2,  2,  9,  2,  5,  0,  5,  4,  3,  0,  2,  3,  3,  2,  3,  1,  2,\n",
              "        0,  4,  3,  4,  3,  2,  3,  1,  4,  2,  0,  1,  6,  4,  3,  4,  2,\n",
              "        3,  2,  5,  7,  2,  3,  3,  8,  5,  6,  4,  4,  0,  3,  6,  0,  3,\n",
              "        7,  4,  9,  6,  2,  3,  4,  4,  1,  2, 10,  4, 10,  4,  3,  6,  8,\n",
              "        4,  0,  0,  0,  9,  3,  4,  1,  2,  0,  2, 10,  3,  2,  3,  2,  2,\n",
              "        4,  3,  3,  4,  2,  3,  2,  0,  8,  6,  2,  2, 10,  3,  0,  4,  5,\n",
              "        5,  0,  3,  9,  9,  2,  0,  1,  5,  0,  6,  6,  6,  3,  9,  6, 10,\n",
              "        3,  6,  8,  2,  4,  0,  3,  3,  6,  5,  4,  4,  4,  2,  3,  1,  1,\n",
              "       10,  3,  3,  5,  3,  2,  6,  3,  8,  2,  2,  0,  0,  7,  2,  3,  3,\n",
              "        1,  9,  4,  0,  3,  3,  0,  7,  4,  2,  5,  5, 10,  8,  6,  4,  0,\n",
              "        3,  4,  4,  2,  0,  2,  2,  7,  3, 10,  3,  3,  5,  4,  6,  0,  3,\n",
              "        2,  7,  2,  0,  1,  2,  2,  3,  3,  6,  6,  0,  5,  0,  4,  5,  2,\n",
              "        3,  3,  2,  2,  2,  3,  2,  3,  7,  7,  2,  7,  2,  4,  3,  4,  2,\n",
              "        2,  3,  2,  2,  1,  0,  6,  4,  3,  2,  2,  0,  6,  2, 10,  5, 10,\n",
              "        4,  3,  4,  0,  2,  3,  2,  2,  9,  0,  2,  6,  1,  2,  0,  0,  1,\n",
              "        6,  6,  4,  5,  4,  2,  3,  9,  5,  4,  0,  3,  2,  8,  3,  3,  2,\n",
              "        0,  0,  3,  0,  6,  5,  0,  2,  2,  0,  0,  6,  0,  8,  3,  7,  2,\n",
              "        6,  0,  0,  4,  3,  6,  3,  5,  3,  0,  3,  8,  3,  2,  3,  2])"
            ]
          },
          "metadata": {},
          "execution_count": 11
        }
      ]
    },
    {
      "cell_type": "code",
      "metadata": {
        "id": "Wbcbt1D0lvjQ",
        "colab": {
          "base_uri": "https://localhost:8080/"
        },
        "outputId": "cf37e043-3b57-4ef1-fab9-2d9683396903"
      },
      "source": [
        "# An example of first (indexed by 0) PE files.\n",
        "# It is a 28x28 integer matrix.\n",
        "train_images[0]"
      ],
      "execution_count": null,
      "outputs": [
        {
          "output_type": "execute_result",
          "data": {
            "text/plain": [
              "array([[ 77,  90,  80,   0,   2,   0,   0,   0,   0,   0,  15,   0, 255,\n",
              "        255,   0,   0,   0,   0,   0,   0,   0,   0,   0,   0,  64,   0,\n",
              "         26,   0],\n",
              "       [  0,   0,   0,   0,   0,   0,   0,   0,   0,   0,   0,   0,   0,\n",
              "          0,   0,   0,   0,   0,   0,   0,   0,   0,   0,   0,   0,   0,\n",
              "          0,   0],\n",
              "       [  0,   0,   0,   0, 124,   0,   0,   0, 186,  16,   0,  14,  31,\n",
              "        180,   9, 205,  33, 184,   1,  76, 205,  33, 144, 144,  84, 104,\n",
              "        105, 115],\n",
              "       [ 32, 112, 114, 111, 103, 114,  97, 109,  32, 109, 117, 115, 116,\n",
              "         32,  98, 101,  32, 114, 117, 110,  32, 117, 110, 100, 101, 114,\n",
              "         32,  87],\n",
              "       [105, 110,  51,  50,  13,  10,  36,  55,   0,   0,   0,   0,  80,\n",
              "         69,   0,   0,  76,   1,   4,   0, 254, 114,  22,  79,   0,   0,\n",
              "          0,   0],\n",
              "       [  0,   0,   0,   0, 224,   0,  15,   1,  11,   1,  10,   0,   0,\n",
              "         22,   0,   0,   0, 184,   5,   0,   0,   0,   0,   0, 180,  20,\n",
              "          0,   0],\n",
              "       [  0,  16,   0,   0,   0,  48,   0,   0,   0,   0,  64,   0,   0,\n",
              "         16,   0,   0,   0,   2,   0,   0,   4,   0,   0,   0,   0,   0,\n",
              "          0,   0],\n",
              "       [  4,   0,   0,   0,   0,   0,   0,   0,   0, 144,  12,   0,   0,\n",
              "          4,   0,   0,   0,   0,   0,   0,   2,   0,   0,   0,   0,   0,\n",
              "         16,   0],\n",
              "       [  0,  16,   0,   0,   0,   0,  16,   0,   0,  16,   0,   0,   0,\n",
              "          0,   0,   0,  16,   0,   0,   0,  68,  30,   0,   0,  28,   0,\n",
              "          0,   0],\n",
              "       [176,  48,   0,   0, 120,   0,   0,   0,   0, 224,   6,   0, 110,\n",
              "        170,   5,   0,   0,   0,   0,   0,   0,   0,   0,   0,   0,   0,\n",
              "          0,   0],\n",
              "       [  0,   0,   0,   0,   0,   0,   0,   0,   0,   0,   0,   0,   0,\n",
              "          0,   0,   0,   0,   0,   0,   0,   0,   0,   0,   0,   0,   0,\n",
              "          0,   0],\n",
              "       [  0,   0,   0,   0,   0,   0,   0,   0,   0,   0,   0,   0,   0,\n",
              "          0,   0,   0,   0,   0,   0,   0,   0,   0,   0,   0,   0,   0,\n",
              "          0,   0],\n",
              "       [  0,   0,   0,   0,   0,   0,   0,   0,   0,   0,   0,   0,   0,\n",
              "          0,   0,   0,   0,   0,   0,   0,   0,   0,   0,   0,   0,   0,\n",
              "          0,   0],\n",
              "       [  0,   0,   0,   0,   0,   0,   0,   0,  46, 116, 101, 120, 116,\n",
              "          0,   0,   0,  64,  21,   0,   0,   0,  16,   0,   0,   0,  22,\n",
              "          0,   0],\n",
              "       [  0,   4,   0,   0,   0,   0,   0,   0,   0,   0,   0,   0,   0,\n",
              "          0,   0,   0,  32,   0,   0,  96,  46, 114, 100,  97, 116,  97,\n",
              "          0,   0],\n",
              "       [  0, 160,   6,   0,   0,  48,   0,   0,   0,   6,   0,   0,   0,\n",
              "         26,   0,   0,   0,   0,   0,   0,   0,   0,   0,   0,   0,   0,\n",
              "          0,   0],\n",
              "       [ 64,   0,   0, 192,  46, 100,  97, 116,  97,   0,   0,   0,  10,\n",
              "          4,   0,   0,   0, 208,   6,   0,   0,   6,   0,   0,   0,  32,\n",
              "          0,   0],\n",
              "       [  0,   0,   0,   0,   0,   0,   0,   0,   0,   0,   0,   0,  64,\n",
              "          0,   0, 192,  46, 114, 115, 114,  99,   0,   0,   0, 110, 170,\n",
              "          5,   0],\n",
              "       [  0, 224,   6,   0,   0, 172,   5,   0,   0,  38,   0,   0,   0,\n",
              "          0,   0,   0,   0,   0,   0,   0,   0,   0,   0,   0,  64,   0,\n",
              "          0,  64],\n",
              "       [  0,   0,   0,   0,   0,   0,   0,   0,   0,   0,   0,   0,   0,\n",
              "          0,   0,   0,   0,   0,   0,   0,   0,   0,   0,   0,   0,   0,\n",
              "          0,   0],\n",
              "       [  0,   0,   0,   0,   0,   0,   0,   0,   0,   0,   0,   0,   0,\n",
              "          0,   0,   0,   0,   0,   0,   0,   0,   0,   0,   0,   0,   0,\n",
              "          0,   0],\n",
              "       [  0,   0,   0,   0,   0,   0,   0,   0,   0,   0,   0,   0,   0,\n",
              "          0,   0,   0,   0,   0,   0,   0,   0,   0,   0,   0,   0,   0,\n",
              "          0,   0],\n",
              "       [  0,   0,   0,   0,   0,   0,   0,   0,   0,   0,   0,   0,   0,\n",
              "          0,   0,   0,   0,   0,   0,   0,   0,   0,   0,   0,   0,   0,\n",
              "          0,   0],\n",
              "       [  0,   0,   0,   0,   0,   0,   0,   0,   0,   0,   0,   0,   0,\n",
              "          0,   0,   0,   0,   0,   0,   0,   0,   0,   0,   0,   0,   0,\n",
              "          0,   0],\n",
              "       [  0,   0,   0,   0,   0,   0,   0,   0,   0,   0,   0,   0,   0,\n",
              "          0,   0,   0,   0,   0,   0,   0,   0,   0,   0,   0,   0,   0,\n",
              "          0,   0],\n",
              "       [  0,   0,   0,   0,   0,   0,   0,   0,   0,   0,   0,   0,   0,\n",
              "          0,   0,   0,   0,   0,   0,   0,   0,   0,   0,   0,   0,   0,\n",
              "          0,   0],\n",
              "       [  0,   0,   0,   0,   0,   0,   0,   0,   0,   0,   0,   0,   0,\n",
              "          0,   0,   0,   0,   0,   0,   0,   0,   0,   0,   0,   0,   0,\n",
              "          0,   0],\n",
              "       [  0,   0,   0,   0,   0,   0,   0,   0,   0,   0,   0,   0,   0,\n",
              "          0,   0,   0,   0,   0,   0,   0,   0,   0,   0,   0,   0,   0,\n",
              "          0,   0]], dtype=uint8)"
            ]
          },
          "metadata": {},
          "execution_count": 12
        }
      ]
    },
    {
      "cell_type": "markdown",
      "metadata": {
        "id": "EdwrMKuhnRPV"
      },
      "source": [
        "### Preprocess the data"
      ]
    },
    {
      "cell_type": "code",
      "metadata": {
        "id": "mM8aua7tmOT7",
        "colab": {
          "base_uri": "https://localhost:8080/",
          "height": 430
        },
        "outputId": "c7032c84-2d5e-468c-f0a3-5b63eff318d8"
      },
      "source": [
        "plt.figure()\n",
        "plt.imshow(train_images[0])\n",
        "plt.colorbar()\n",
        "plt.grid(False)\n",
        "plt.show()\n",
        "\n",
        "\n",
        "# Note that we can view the first 28x28 bytes of a PE file as an image.\n",
        "# A byte with value 0 (or '0x00') has darkest color,\n",
        "# while a byte with value 255 (or '0xFF') has brightest color.\n",
        "# Below is the visualization of the first PE file."
      ],
      "execution_count": null,
      "outputs": [
        {
          "output_type": "display_data",
          "data": {
            "text/plain": [
              "<Figure size 640x480 with 2 Axes>"
            ],
            "image/png": "[encoded data removed]"
          },
          "metadata": {}
        }
      ]
    },
    {
      "cell_type": "code",
      "metadata": {
        "id": "pldW7dpcnfkh",
        "colab": {
          "base_uri": "https://localhost:8080/",
          "height": 826
        },
        "outputId": "9e936d4d-d80d-4051-c4ee-1a6a3c82103f"
      },
      "source": [
        "# Here are the examples of 36 PE files,\n",
        "# presented as 28x28 images.\n",
        "# However, I use 'plt.cm.binary' to show only grey-scale color.\n",
        "# You may try the following page to change to other colors.\n",
        "# https://matplotlib.org/stable/tutorials/colors/colormaps.html\n",
        "\n",
        "plt.figure(figsize=(10,10))\n",
        "for i in range(36):\n",
        "    plt.subplot(6,6,i+1)\n",
        "    plt.xticks([])\n",
        "    plt.yticks([])\n",
        "    plt.grid(False)\n",
        "    plt.imshow(train_images[i], cmap=plt.cm.binary) #Display data as an image\n",
        "    plt.xlabel(class_names[train_labels[i]])\n",
        "plt.show()"
      ],
      "execution_count": null,
      "outputs": [
        {
          "output_type": "display_data",
          "data": {
            "text/plain": [
              "<Figure size 1000x1000 with 36 Axes>"
            ],
            "image/png": "[encoded data removed]"
          },
          "metadata": {}
        }
      ]
    },
    {
      "cell_type": "markdown",
      "metadata": {
        "id": "Snw_N4mtoSkv"
      },
      "source": [
        "The above images are samples of different PE files. Could you visually distinguish them? Their labels are shown under each of the image.\n",
        "\n",
        "### Q1: Before building the model, if there is anything you can do to the data, do it right here.\n"
      ]
    },
    {
      "cell_type": "code",
      "metadata": {
        "id": "JISk0HUfoH6U"
      },
      "source": [
        "# Any preprocessing?\n",
        "# 將這些值縮放到0到1的範圍\n",
        "train_images = train_images/255.0"
      ],
      "execution_count": null,
      "outputs": []
    },
    {
      "cell_type": "markdown",
      "metadata": {
        "id": "m5pwDPLApAyy"
      },
      "source": [
        "### Build the model"
      ]
    },
    {
      "cell_type": "code",
      "metadata": {
        "id": "NLB0CukEpDoz",
        "colab": {
          "base_uri": "https://localhost:8080/",
          "height": 35
        },
        "outputId": "d8bbd44a-fd1c-4d8f-d12b-690ff787626c"
      },
      "source": [
        "# This is the model from tensorflow's example.\n",
        "# Please try to modify it.\n",
        "'''\n",
        "model = keras.Sequential([\n",
        "    keras.layers.Flatten(input_shape=(28, 28)),\n",
        "    keras.layers.Dense(128, activation='relu'),\n",
        "    keras.layers.Dense(len_classes)\n",
        "])\n",
        "'''"
      ],
      "execution_count": null,
      "outputs": [
        {
          "output_type": "execute_result",
          "data": {
            "text/plain": [
              "\"\\nmodel = keras.Sequential([\\n    keras.layers.Flatten(input_shape=(28, 28)),\\n    keras.layers.Dense(128, activation='relu'),\\n    keras.layers.Dense(len_classes)\\n])\\n\""
            ],
            "application/vnd.google.colaboratory.intrinsic+json": {
              "type": "string"
            }
          },
          "metadata": {},
          "execution_count": 16
        }
      ]
    },
    {
      "cell_type": "code",
      "source": [
        "model = keras.Sequential(\n",
        "    [\n",
        "        # 第一步驟：Convolution Operation & Pooling\n",
        "        keras.Input(shape=(28, 28,1)),\n",
        "        keras.layers.Conv2D(64,3, padding=\"same\", activation=\"relu\"),\n",
        "        keras.layers.MaxPooling2D(),\n",
        "        keras.layers.Conv2D(128,3, padding=\"same\", activation=\"relu\"),\n",
        "        keras.layers.MaxPooling2D(),\n",
        "        # 第二步驟：Flatten：將feature maps攤平放入一個向量中\n",
        "        keras.layers.Flatten(),\n",
        "        # 第三步驟：\n",
        "        keras.layers.Dense(128, activation=\"relu\"), #(幾個神經元,用什麼激活函式) 72xx/10-->720(512)\n",
        "        keras.layers.Dropout(0.2), # 避免overfitting\n",
        "        keras.layers.Dense(len_classes, activation=\"softmax\")\n",
        "    ]\n",
        ")\n",
        "\n",
        "# 顯示 Model output\n",
        "model.summary()"
      ],
      "metadata": {
        "colab": {
          "base_uri": "https://localhost:8080/"
        },
        "id": "2tTwwTqaUXrP",
        "outputId": "a2729265-93bc-4a05-946e-886608e1e0de"
      },
      "execution_count": null,
      "outputs": [
        {
          "output_type": "stream",
          "name": "stdout",
          "text": [
            "Model: \"sequential\"\n",
            "_________________________________________________________________\n",
            " Layer (type)                Output Shape              Param #   \n",
            "=================================================================\n",
            " conv2d (Conv2D)             (None, 28, 28, 64)        640       \n",
            "                                                                 \n",
            " max_pooling2d (MaxPooling2D  (None, 14, 14, 64)       0         \n",
            " )                                                               \n",
            "                                                                 \n",
            " conv2d_1 (Conv2D)           (None, 14, 14, 128)       73856     \n",
            "                                                                 \n",
            " max_pooling2d_1 (MaxPooling  (None, 7, 7, 128)        0         \n",
            " 2D)                                                             \n",
            "                                                                 \n",
            " flatten (Flatten)           (None, 6272)              0         \n",
            "                                                                 \n",
            " dense (Dense)               (None, 128)               802944    \n",
            "                                                                 \n",
            " dropout (Dropout)           (None, 128)               0         \n",
            "                                                                 \n",
            " dense_1 (Dense)             (None, 11)                1419      \n",
            "                                                                 \n",
            "=================================================================\n",
            "Total params: 878,859\n",
            "Trainable params: 878,859\n",
            "Non-trainable params: 0\n",
            "_________________________________________________________________\n"
          ]
        }
      ]
    },
    {
      "cell_type": "code",
      "metadata": {
        "id": "OlamJI6vpbaC"
      },
      "source": [
        "# This is the training sonfig from tensorflow's example.\n",
        "# Please try to modify it.\n",
        "\n",
        "model.compile(optimizer='adam',\n",
        "              loss=tf.keras.losses.SparseCategoricalCrossentropy(from_logits=True),\n",
        "              metrics=['accuracy'])"
      ],
      "execution_count": null,
      "outputs": []
    },
    {
      "cell_type": "markdown",
      "metadata": {
        "id": "4fTbI6yupoM-"
      },
      "source": [
        "### Q2: Why the example use 'SparseCategoricalCrossentropy' and what is 'from_logits'? Is \"SGD\" good enough? (what if not?)\n",
        "\n",
        "#### A2:\n",
        "\n",
        "因為output是維度為len_classes的向量，所以每個元素都表示一個數字的機率，而不是0或1的標籤。且資料集各個樣本有自己屬於的類別，因此用SparseCategoricalCrossentropy結果較好。\n",
        "\n",
        "將from_logits設為True，表示算出的loss會再經過keras logits轉換為機率。目前adam是最好的優化器，用了也發現比較好"
      ]
    },
    {
      "cell_type": "markdown",
      "metadata": {
        "id": "dh_KofJ8p27y"
      },
      "source": [
        "### Train the model"
      ]
    },
    {
      "cell_type": "code",
      "metadata": {
        "id": "Kk5jNTIvp2Hc",
        "colab": {
          "base_uri": "https://localhost:8080/"
        },
        "outputId": "e6fb2228-9acd-4918-c00f-9d1b77bb4f43"
      },
      "source": [
        "# This is the fitting function from tensorflow's example.\n",
        "# Please try to modify it.\n",
        "\n",
        "model.fit(train_images, train_labels, epochs=20)"
      ],
      "execution_count": null,
      "outputs": [
        {
          "output_type": "stream",
          "name": "stdout",
          "text": [
            "Epoch 1/20\n"
          ]
        },
        {
          "output_type": "stream",
          "name": "stderr",
          "text": [
            "/usr/local/lib/python3.10/dist-packages/keras/backend.py:5612: UserWarning: \"`sparse_categorical_crossentropy` received `from_logits=True`, but the `output` argument was produced by a Softmax activation and thus does not represent logits. Was this intended?\n",
            "  output, from_logits = _get_logits(\n"
          ]
        },
        {
          "output_type": "stream",
          "name": "stdout",
          "text": [
            "12/12 [==============================] - 3s 97ms/step - loss: 2.0723 - accuracy: 0.3371\n",
            "Epoch 2/20\n",
            "12/12 [==============================] - 1s 96ms/step - loss: 1.6045 - accuracy: 0.4494\n",
            "Epoch 3/20\n",
            "12/12 [==============================] - 1s 98ms/step - loss: 1.2725 - accuracy: 0.5478\n",
            "Epoch 4/20\n",
            "12/12 [==============================] - 1s 98ms/step - loss: 1.0232 - accuracy: 0.6826\n",
            "Epoch 5/20\n",
            "12/12 [==============================] - 1s 95ms/step - loss: 0.7871 - accuracy: 0.7331\n",
            "Epoch 6/20\n",
            "12/12 [==============================] - 1s 96ms/step - loss: 0.6196 - accuracy: 0.8090\n",
            "Epoch 7/20\n",
            "12/12 [==============================] - 1s 95ms/step - loss: 0.5290 - accuracy: 0.8371\n",
            "Epoch 8/20\n",
            "12/12 [==============================] - 1s 124ms/step - loss: 0.4668 - accuracy: 0.8567\n",
            "Epoch 9/20\n",
            "12/12 [==============================] - 2s 171ms/step - loss: 0.4614 - accuracy: 0.8624\n",
            "Epoch 10/20\n",
            "12/12 [==============================] - 1s 109ms/step - loss: 0.3404 - accuracy: 0.9129\n",
            "Epoch 11/20\n",
            "12/12 [==============================] - 1s 98ms/step - loss: 0.2959 - accuracy: 0.9101\n",
            "Epoch 12/20\n",
            "12/12 [==============================] - 1s 95ms/step - loss: 0.2369 - accuracy: 0.9326\n",
            "Epoch 13/20\n",
            "12/12 [==============================] - 1s 95ms/step - loss: 0.2317 - accuracy: 0.9213\n",
            "Epoch 14/20\n",
            "12/12 [==============================] - 1s 97ms/step - loss: 0.1815 - accuracy: 0.9551\n",
            "Epoch 15/20\n",
            "12/12 [==============================] - 1s 95ms/step - loss: 0.1660 - accuracy: 0.9410\n",
            "Epoch 16/20\n",
            "12/12 [==============================] - 1s 96ms/step - loss: 0.1226 - accuracy: 0.9663\n",
            "Epoch 17/20\n",
            "12/12 [==============================] - 1s 97ms/step - loss: 0.1192 - accuracy: 0.9607\n",
            "Epoch 18/20\n",
            "12/12 [==============================] - 1s 111ms/step - loss: 0.0731 - accuracy: 0.9888\n",
            "Epoch 19/20\n",
            "12/12 [==============================] - 2s 171ms/step - loss: 0.0985 - accuracy: 0.9803\n",
            "Epoch 20/20\n",
            "12/12 [==============================] - 2s 122ms/step - loss: 0.1080 - accuracy: 0.9719\n"
          ]
        },
        {
          "output_type": "execute_result",
          "data": {
            "text/plain": [
              "<keras.callbacks.History at 0x7f16f2fd6b60>"
            ]
          },
          "metadata": {},
          "execution_count": 19
        }
      ]
    },
    {
      "cell_type": "markdown",
      "metadata": {
        "id": "7pObjsXup7lN"
      },
      "source": [
        "### Q3: What is 'epochs'? How does it affect the result?\n",
        "\n",
        "#### A3:\n",
        "指整個訓練集的循環次數。每個epoch時，NN會對訓練資料集進行一次傳播以更新權重和偏差。因此越多epoch，模型就有越多機會被訓練，而提高訓練精度。\n",
        "- 但如果epoch數量太大，模型可能會overfitting於trainning data。\n",
        "- 如果太小，又沒有足夠時間學習，導致underfitting。"
      ]
    },
    {
      "cell_type": "markdown",
      "source": [
        "*--> epoch 5->10->20越來越好，但後面就持平，也導致訓練時間變長，所以不是越多越好*"
      ],
      "metadata": {
        "id": "1cc6j7GuZn0y"
      }
    },
    {
      "cell_type": "markdown",
      "metadata": {
        "id": "PQmHXomhqGqd"
      },
      "source": [
        "### Q4: What is 'split_validation' in model.fit()? Check it out in tensorflow's web page. Use it in your code.\n",
        "\n",
        "#### A4:\n",
        "將訓練data分為訓練集和驗證集的比例。可用於評估模型在不同數據集上的性能，也可以用於防止overfitting。驗證集的表現可以幫助我們選擇最佳的模型，以達到最佳性能。"
      ]
    },
    {
      "cell_type": "markdown",
      "source": [
        "*--> 多出了val的loss跟acc*"
      ],
      "metadata": {
        "id": "Zv6cD9c9dIiE"
      }
    },
    {
      "cell_type": "code",
      "source": [
        "model.fit(train_images, train_labels, epochs=10, validation_split=0.2)"
      ],
      "metadata": {
        "colab": {
          "base_uri": "https://localhost:8080/"
        },
        "id": "IufA8FoEcnt0",
        "outputId": "297bd704-423a-4fee-d996-d04f4f160708"
      },
      "execution_count": null,
      "outputs": [
        {
          "output_type": "stream",
          "name": "stdout",
          "text": [
            "Epoch 1/10\n",
            "9/9 [==============================] - 1s 136ms/step - loss: 0.0664 - accuracy: 0.9930 - val_loss: 0.0933 - val_accuracy: 0.9583\n",
            "Epoch 2/10\n",
            "9/9 [==============================] - 1s 115ms/step - loss: 0.0427 - accuracy: 0.9965 - val_loss: 0.0732 - val_accuracy: 0.9583\n",
            "Epoch 3/10\n",
            "9/9 [==============================] - 1s 110ms/step - loss: 0.0274 - accuracy: 0.9965 - val_loss: 0.0827 - val_accuracy: 0.9583\n",
            "Epoch 4/10\n",
            "9/9 [==============================] - 1s 110ms/step - loss: 0.0397 - accuracy: 0.9859 - val_loss: 0.0766 - val_accuracy: 0.9861\n",
            "Epoch 5/10\n",
            "9/9 [==============================] - 1s 109ms/step - loss: 0.0419 - accuracy: 0.9930 - val_loss: 0.0639 - val_accuracy: 0.9722\n",
            "Epoch 6/10\n",
            "9/9 [==============================] - 1s 112ms/step - loss: 0.0177 - accuracy: 1.0000 - val_loss: 0.0888 - val_accuracy: 0.9583\n",
            "Epoch 7/10\n",
            "9/9 [==============================] - 2s 188ms/step - loss: 0.0172 - accuracy: 1.0000 - val_loss: 0.0999 - val_accuracy: 0.9583\n",
            "Epoch 8/10\n",
            "9/9 [==============================] - 2s 264ms/step - loss: 0.0225 - accuracy: 0.9930 - val_loss: 0.0651 - val_accuracy: 0.9861\n",
            "Epoch 9/10\n",
            "9/9 [==============================] - 1s 147ms/step - loss: 0.0165 - accuracy: 0.9965 - val_loss: 0.1009 - val_accuracy: 0.9722\n",
            "Epoch 10/10\n",
            "9/9 [==============================] - 1s 109ms/step - loss: 0.0134 - accuracy: 1.0000 - val_loss: 0.0956 - val_accuracy: 0.9583\n"
          ]
        },
        {
          "output_type": "execute_result",
          "data": {
            "text/plain": [
              "<keras.callbacks.History at 0x7f16f51ed6c0>"
            ]
          },
          "metadata": {},
          "execution_count": 20
        }
      ]
    },
    {
      "cell_type": "markdown",
      "metadata": {
        "id": "lleu3shDqWFr"
      },
      "source": [
        "### Q5: Could you exaplin the output of model.fit()? And what is your accuracy?\n",
        "\n",
        "#### A5:\n",
        "acc跟val_accuracy都蠻高的，甚至到後面accuracy接近一，很有可能是overfitting了，要注意val_accuracy的走向"
      ]
    },
    {
      "cell_type": "markdown",
      "metadata": {
        "id": "imcd1Dwzqre3"
      },
      "source": [
        "### Q6: How do you know your model is not overfitted?\n",
        "\n",
        "#### A6:\n",
        "如果我的accuracy很高，但val_accuracy很低，則可能表示我的model很合適訓練資料，但對val資料一竅不通"
      ]
    },
    {
      "cell_type": "markdown",
      "metadata": {
        "id": "pLdPN7gBqw0c"
      },
      "source": [
        "### Q7: Could you introduce 'early stop mechanism' in your code? Then, train the model again.\n",
        "\"Early stop\" means you can stop the epoch (without finishing all of them). You can prepare a validation data set and calculate your val_loss and val_accuracy at the end of each epoch. If you believe the val_loss will not improve for the next epoch, then you can stop the traning, to save time and to prevent overfitting. Does it works?\n",
        "\n",
        "A7:\n",
        "\n",
        "可以發現在第8次訓練時val_accuracy最高，後面就開始下講，且accuracy此時都開始是1，推測最後幾次訓練已有overfitted的跡象，所以把epochs設為8應該是更理想的選擇。"
      ]
    },
    {
      "cell_type": "markdown",
      "metadata": {
        "id": "jJUoK10hrPkj"
      },
      "source": [
        "### Q8: Any idea of improving the classification accuracy?\n",
        "\n",
        "A8:\n",
        "\n",
        "1. 增加數據量，生成更多的訓練數據\n",
        "2. 調整超參數：ex. 學習速率、epoch或dropout比例, filter…。\n",
        "3. 更改模型架構：Conv或dense，或者添加新的層來提高模型的複雜度和能力。我在一開始時，用了3層conv層，結果accuracy都是低於0.23，後來減少一層conv層後，accuracy才變高。\n",
        "4. 提高數據質量: 使用預處理技術，如標準化、歸一化、PCA等"
      ]
    },
    {
      "cell_type": "markdown",
      "source": [
        "### Q9: Try to understand the reshape() function from the following link.\n",
        "\n",
        "https://www.tensorflow.org/api_docs/python/tf/reshape  We haved modified the original Fashion MNIST/MNIST dataset and applied similar structure to our malware PE file dataset. But for a PE file, its header and content are not designed according to a 2d shape 28x28, why convolution still work? According to the PE file structure, a row should be 64 bits (or 8 bytes, see https://en.wikipedia.org/wiki/Portable_Executable) and rows has no relation (but image does). So, theoratically we do not need to use a 2d convolution to describe the relation between rows. Why 2d conv still looks good?\n",
        "\n",
        "\n",
        "#### A9:\n",
        "section是PE檔案的特點，雖然沒有規律排序跟大小不同，但可以轉為2D來對他提取特徵。"
      ],
      "metadata": {
        "id": "STLSWbzviMS5"
      }
    },
    {
      "cell_type": "markdown",
      "source": [
        "Q10: use reshape() to transform the original 2d 28x28 inputs to a 1d 784 inputs, and try to use Conv1D() https://www.tensorflow.org/api_docs/python/tf/keras/layers/Conv1D to analyze our PE files. Does your accuracy of 1d model increase?\n",
        "\n",
        "A10: your code and result.\n",
        "\n"
      ],
      "metadata": {
        "id": "9CkJCm4mkidh"
      }
    },
    {
      "cell_type": "code",
      "source": [
        "train_images = train_images.reshape(train_images.shape[0], 784)\n",
        "train_labels = keras.utils.to_categorical(train_labels)\n",
        "\n",
        "model = keras.Sequential(\n",
        "    [\n",
        "        # 第一步驟：Convolution Operation & Pooling\n",
        "        keras.Input(shape=(784, 1)),\n",
        "        keras.layers.Conv1D(64,3, padding=\"same\", activation=\"relu\"),\n",
        "        keras.layers.MaxPooling1D(),\n",
        "        keras.layers.Conv1D(128,3, padding=\"same\", activation=\"relu\"),\n",
        "        keras.layers.MaxPooling1D(),\n",
        "        # 第二步驟：Flatten：將feature maps攤平放入一個向量中\n",
        "        keras.layers.Flatten(),\n",
        "        # 第三步驟：\n",
        "        keras.layers.Dense(128, activation=\"relu\"), #(幾個神經元,用什麼激活函式) 72xx/10-->720(512)\n",
        "        keras.layers.Dropout(0.2), # 避免overfitting\n",
        "        keras.layers.Dense(len_classes, activation=\"softmax\")\n",
        "    ]\n",
        ")\n",
        "\n",
        "model.summary()"
      ],
      "metadata": {
        "colab": {
          "base_uri": "https://localhost:8080/"
        },
        "id": "w0TzCQ9WhpiV",
        "outputId": "d89e1b93-9bb2-45c5-bb92-523827580b29"
      },
      "execution_count": null,
      "outputs": [
        {
          "output_type": "stream",
          "name": "stdout",
          "text": [
            "Model: \"sequential_2\"\n",
            "_________________________________________________________________\n",
            " Layer (type)                Output Shape              Param #   \n",
            "=================================================================\n",
            " conv1d_2 (Conv1D)           (None, 784, 64)           256       \n",
            "                                                                 \n",
            " max_pooling1d_2 (MaxPooling  (None, 392, 64)          0         \n",
            " 1D)                                                             \n",
            "                                                                 \n",
            " conv1d_3 (Conv1D)           (None, 392, 128)          24704     \n",
            "                                                                 \n",
            " max_pooling1d_3 (MaxPooling  (None, 196, 128)         0         \n",
            " 1D)                                                             \n",
            "                                                                 \n",
            " flatten_2 (Flatten)         (None, 25088)             0         \n",
            "                                                                 \n",
            " dense_4 (Dense)             (None, 128)               3211392   \n",
            "                                                                 \n",
            " dropout_2 (Dropout)         (None, 128)               0         \n",
            "                                                                 \n",
            " dense_5 (Dense)             (None, 11)                1419      \n",
            "                                                                 \n",
            "=================================================================\n",
            "Total params: 3,237,771\n",
            "Trainable params: 3,237,771\n",
            "Non-trainable params: 0\n",
            "_________________________________________________________________\n"
          ]
        }
      ]
    },
    {
      "cell_type": "code",
      "source": [
        "model.compile(optimizer='adam', loss='categorical_crossentropy', metrics=['accuracy'])\n",
        "history = model.fit(train_images, train_labels, epochs=10, validation_split=0.2)"
      ],
      "metadata": {
        "colab": {
          "base_uri": "https://localhost:8080/"
        },
        "id": "Zbnvdefe3v-Y",
        "outputId": "1eac8c59-741a-4f79-e2df-504f33509aed"
      },
      "execution_count": null,
      "outputs": [
        {
          "output_type": "stream",
          "name": "stdout",
          "text": [
            "Epoch 1/10\n",
            "9/9 [==============================] - 2s 154ms/step - loss: 1.8026 - accuracy: 0.4261 - val_loss: 1.3132 - val_accuracy: 0.5694\n",
            "Epoch 2/10\n",
            "9/9 [==============================] - 1s 129ms/step - loss: 1.0162 - accuracy: 0.6620 - val_loss: 0.9614 - val_accuracy: 0.6528\n",
            "Epoch 3/10\n",
            "9/9 [==============================] - 1s 124ms/step - loss: 0.6267 - accuracy: 0.8134 - val_loss: 0.6885 - val_accuracy: 0.8056\n",
            "Epoch 4/10\n",
            "9/9 [==============================] - 1s 124ms/step - loss: 0.4191 - accuracy: 0.8803 - val_loss: 0.6400 - val_accuracy: 0.8056\n",
            "Epoch 5/10\n",
            "9/9 [==============================] - 1s 151ms/step - loss: 0.3005 - accuracy: 0.8944 - val_loss: 0.6144 - val_accuracy: 0.7917\n",
            "Epoch 6/10\n",
            "9/9 [==============================] - 2s 209ms/step - loss: 0.2154 - accuracy: 0.9261 - val_loss: 0.6452 - val_accuracy: 0.8194\n",
            "Epoch 7/10\n",
            "9/9 [==============================] - 2s 165ms/step - loss: 0.1816 - accuracy: 0.9472 - val_loss: 0.6956 - val_accuracy: 0.7639\n",
            "Epoch 8/10\n",
            "9/9 [==============================] - 1s 130ms/step - loss: 0.0788 - accuracy: 0.9789 - val_loss: 0.6998 - val_accuracy: 0.7917\n",
            "Epoch 9/10\n",
            "9/9 [==============================] - 1s 130ms/step - loss: 0.0620 - accuracy: 0.9754 - val_loss: 0.6763 - val_accuracy: 0.7917\n",
            "Epoch 10/10\n",
            "9/9 [==============================] - 1s 125ms/step - loss: 0.0590 - accuracy: 0.9859 - val_loss: 0.8736 - val_accuracy: 0.7778\n"
          ]
        }
      ]
    },
    {
      "cell_type": "markdown",
      "source": [
        "*--> 可以發現有overfitting的現象，accuracy非常高，但到epoch=10的時候，val_acc反而下降*"
      ],
      "metadata": {
        "id": "slqTxq6q5elV"
      }
    },
    {
      "cell_type": "code",
      "source": [],
      "metadata": {
        "id": "ul2RasvC5bLL"
      },
      "execution_count": null,
      "outputs": []
    }
  ]
}